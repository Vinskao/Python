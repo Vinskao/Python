{
  "nbformat": 4,
  "nbformat_minor": 0,
  "metadata": {
    "colab": {
      "name": "Scraping NVDA Financial Statements from stockanalysis To Excel For Financial Analysis Using Python",
      "provenance": []
    },
    "kernelspec": {
      "name": "python3",
      "display_name": "Python 3"
    },
    "language_info": {
      "name": "python"
    }
  },
  "cells": [
    {
      "cell_type": "markdown",
      "source": [
        "必要項目"
      ],
      "metadata": {
        "id": "BZqTB35d3Wwc"
      }
    },
    {
      "cell_type": "code",
      "source": [
        "!pip install requests\n",
        "!pip install beautifulsoup4"
      ],
      "metadata": {
        "id": "rApDgUWu2zGO"
      },
      "execution_count": null,
      "outputs": []
    },
    {
      "cell_type": "code",
      "source": [
        "from google.colab import drive\n",
        "drive.mount('/content/gdrive')"
      ],
      "metadata": {
        "colab": {
          "base_uri": "https://localhost:8080/"
        },
        "id": "KQlBRC1gFlb3",
        "outputId": "9f840b69-8211-44cd-cec7-20f79a77a2f6"
      },
      "execution_count": 19,
      "outputs": [
        {
          "output_type": "stream",
          "name": "stdout",
          "text": [
            "Mounted at /content/gdrive\n"
          ]
        }
      ]
    },
    {
      "cell_type": "code",
      "source": [
        "import requests\n",
        "from bs4 import BeautifulSoup\n",
        "import pandas as pd"
      ],
      "metadata": {
        "id": "cdj08vOY3Mza"
      },
      "execution_count": 4,
      "outputs": []
    },
    {
      "cell_type": "markdown",
      "source": [
        "Pulling Data"
      ],
      "metadata": {
        "id": "6ZfsQGYp3czo"
      }
    },
    {
      "cell_type": "code",
      "source": [
        "headers= {\n",
        "    'user-agent': 'Mozilla/5.0 (Windows NT 10.0; Win64; x64; rv:87.0) Gecko/20100101 Firefox/87.0',\n",
        "    'Accept': 'text/html,application/xhtml+xml,application/xml;q=0.9,image/webp,*/*;q=0.8',\n",
        "    'Accept-Language': 'en-US,en;q=0.5',\n",
        "    'Connection': 'keep-alive',\n",
        "    'Upgrade-Insecure-Requests': '1',\n",
        "    'Cache-Control': 'max-age=0'\n",
        "}\n",
        "\n",
        "ticker = 'nvda'"
      ],
      "metadata": {
        "id": "CSEZl-6y3ga9"
      },
      "execution_count": 5,
      "outputs": []
    },
    {
      "cell_type": "code",
      "source": [
        "urls = {}\n",
        "urls['income annually'] = f\"https://stockanalysis.com/stocks/{ticker}/financials/\"\n",
        "urls['balance sheet annually'] = f\"https://stockanalysis.com/stocks/{ticker}/financials/balance-sheet/\"\n",
        "urls['cash flow annually'] = f\"https://stockanalysis.com/stocks/{ticker}/financials/cash-flow-statement/\""
      ],
      "metadata": {
        "id": "wINURdvO4O8I"
      },
      "execution_count": 6,
      "outputs": []
    },
    {
      "cell_type": "markdown",
      "source": [
        "產生Excel，檔案在content下"
      ],
      "metadata": {
        "id": "6GdMxF3Y4yn0"
      }
    },
    {
      "cell_type": "code",
      "source": [
        "!pip install xlsxwriter"
      ],
      "metadata": {
        "id": "kUqXbA1i8h56"
      },
      "execution_count": null,
      "outputs": []
    },
    {
      "cell_type": "code",
      "source": [
        "xlwriter = pd.ExcelWriter(f'financial statements ({ticker}).xlsx', engine='xlsxwriter')\n",
        "\n",
        "\n",
        "\n",
        "for key in urls.keys():\n",
        "    response = requests.get(urls[key], headers=headers)\n",
        "    soup = BeautifulSoup(response.content, 'html.parser')\n",
        "    df = pd.read_html(str(soup),)[0]\n",
        "    df.to_excel(xlwriter, sheet_name=key, index=False)\n",
        "\n",
        "xlwriter.save()"
      ],
      "metadata": {
        "id": "oyh0RW3f4s5I"
      },
      "execution_count": 18,
      "outputs": []
    }
  ]
}