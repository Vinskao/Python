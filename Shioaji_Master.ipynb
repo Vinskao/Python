{
  "nbformat": 4,
  "nbformat_minor": 0,
  "metadata": {
    "colab": {
      "provenance": [],
      "toc_visible": true
    },
    "kernelspec": {
      "name": "python3",
      "display_name": "Python 3"
    },
    "language_info": {
      "name": "python"
    }
  },
  "cells": [
    {
      "cell_type": "markdown",
      "source": [
        "# Shioaji Login"
      ],
      "metadata": {
        "id": "OKhkhA8IxGaT"
      }
    },
    {
      "cell_type": "code",
      "source": [
        "!pip install tf-estimator-nightly==2.8.0.dev2021122109"
      ],
      "metadata": {
        "id": "mowBctjfdtb-"
      },
      "execution_count": null,
      "outputs": []
    },
    {
      "cell_type": "code",
      "source": [
        "!pip install shioaji"
      ],
      "metadata": {
        "id": "16o26Cind6-C"
      },
      "execution_count": null,
      "outputs": []
    },
    {
      "cell_type": "code",
      "source": [
        "!pip install -U shioaji"
      ],
      "metadata": {
        "id": "ZO-Ua8LTd_L4"
      },
      "execution_count": null,
      "outputs": []
    },
    {
      "cell_type": "code",
      "source": [
        "import shioaji as sj"
      ],
      "metadata": {
        "id": "_RtyAgI-eYDB"
      },
      "execution_count": null,
      "outputs": []
    },
    {
      "cell_type": "code",
      "source": [
        "api = sj.Shioaji()"
      ],
      "metadata": {
        "id": "J5d0iKJHeZiP"
      },
      "execution_count": null,
      "outputs": []
    },
    {
      "cell_type": "code",
      "source": [
        "api.login(\n",
        "    person_id=\"\",\n",
        "    passwd=\"\",\n",
        "    contracts_cb=lambda security_type: print(f\"{repr(security_type)} fetch done.\")\n",
        ")"
      ],
      "metadata": {
        "id": "8gLmPw7Xebpt"
      },
      "execution_count": null,
      "outputs": []
    },
    {
      "cell_type": "code",
      "source": [
        "print(api.futopt_account)"
      ],
      "metadata": {
        "id": "oalpehgYfKNq"
      },
      "execution_count": null,
      "outputs": []
    },
    {
      "cell_type": "code",
      "source": [
        "api.list_accounts()"
      ],
      "metadata": {
        "id": "ztkW6Irz4L-8"
      },
      "execution_count": null,
      "outputs": []
    },
    {
      "cell_type": "code",
      "source": [
        "api.set_default_account()"
      ],
      "metadata": {
        "id": "yY_1kIvy38i-"
      },
      "execution_count": null,
      "outputs": []
    },
    {
      "cell_type": "code",
      "source": [
        "api.activate_ca?"
      ],
      "metadata": {
        "id": "YpHYkRp14u-Q"
      },
      "execution_count": null,
      "outputs": []
    },
    {
      "cell_type": "code",
      "source": [
        "print(\"Default Stock Account: {}\".format(api.stock_account))"
      ],
      "metadata": {
        "id": "EJNIZf3x9zvq"
      },
      "execution_count": null,
      "outputs": []
    },
    {
      "cell_type": "code",
      "source": [
        "print(\"Default Future Account: {}\".format(api.futopt_account))"
      ],
      "metadata": {
        "id": "VHjIxjqH9B2i"
      },
      "execution_count": null,
      "outputs": []
    },
    {
      "cell_type": "code",
      "source": [
        "api.activate_ca(\n",
        "    ca_path=r'G:\\My Drive\\Colab Notebooks\\Sinopac.pfx',\n",
        "    ca_passwd='',\n",
        "    person_id=''\n",
        ")"
      ],
      "metadata": {
        "id": "FJNatIa4Bz-g"
      },
      "execution_count": null,
      "outputs": []
    },
    {
      "cell_type": "markdown",
      "source": [
        "# Shioaji Order"
      ],
      "metadata": {
        "id": "9PLkdj_wFGKV"
      }
    },
    {
      "cell_type": "code",
      "source": [
        "api.list_positions?\n"
      ],
      "metadata": {
        "id": "TJwSB8WPE_zI"
      },
      "execution_count": null,
      "outputs": []
    },
    {
      "cell_type": "code",
      "source": [
        "api.list_positions(api.stock_account)"
      ],
      "metadata": {
        "id": "QPWjv2VeFbNo"
      },
      "execution_count": null,
      "outputs": []
    },
    {
      "cell_type": "code",
      "source": [
        "import pandas as pd"
      ],
      "metadata": {
        "id": "JnXKfnkqGEEK"
      },
      "execution_count": null,
      "outputs": []
    },
    {
      "cell_type": "code",
      "source": [
        "positions = api.list_positions(api.stock_account)\n",
        "df = pd.DataFrame(positions)\n",
        "df"
      ],
      "metadata": {
        "id": "7M6G-juJFsb4"
      },
      "execution_count": null,
      "outputs": []
    }
  ]
}