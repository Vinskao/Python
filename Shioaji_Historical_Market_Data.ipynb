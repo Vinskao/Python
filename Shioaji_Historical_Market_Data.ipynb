{
  "nbformat": 4,
  "nbformat_minor": 0,
  "metadata": {
    "colab": {
      "provenance": []
    },
    "kernelspec": {
      "name": "python3",
      "display_name": "Python 3"
    },
    "language_info": {
      "name": "python"
    }
  },
  "cells": [
    {
      "cell_type": "code",
      "source": [
        "!pip install tf-estimator-nightly==2.8.0.dev2021122109"
      ],
      "metadata": {
        "id": "XR5op59jXJAw"
      },
      "execution_count": null,
      "outputs": []
    },
    {
      "cell_type": "code",
      "execution_count": null,
      "metadata": {
        "id": "vS1w4KIyVKnH"
      },
      "outputs": [],
      "source": [
        "pip install shioaji"
      ]
    },
    {
      "cell_type": "code",
      "source": [
        "from shioaji.data import Ticks\n",
        "Ticks??"
      ],
      "metadata": {
        "id": "RkW29mZ6Vzl9"
      },
      "execution_count": null,
      "outputs": []
    },
    {
      "cell_type": "code",
      "source": [
        "import shioaji as sj"
      ],
      "metadata": {
        "id": "_vtG--INV26v"
      },
      "execution_count": null,
      "outputs": []
    },
    {
      "cell_type": "code",
      "source": [
        "api = sj.Shioaji()\n",
        "api.login(\n",
        "    person_id=\"\",\n",
        "    passwd=\"\",\n",
        "    contracts_cb=lambda security_type: print(f\"{repr(security_type)} fetch done.\")\n",
        ")\n",
        "print(api.futopt_account)"
      ],
      "metadata": {
        "id": "QDjvDVo3Xvuy"
      },
      "execution_count": null,
      "outputs": []
    },
    {
      "cell_type": "code",
      "source": [
        "api.quote.subscribe(\n",
        "    api.Contracts.Futures.MXF.MXF202205, \n",
        "    quote_type = sj.constant.QuoteType.Tick, \n",
        "    version = sj.constant.QuoteVersion.v1,\n",
        ")"
      ],
      "metadata": {
        "id": "WeU56iiYX91G"
      },
      "execution_count": null,
      "outputs": []
    },
    {
      "cell_type": "code",
      "source": [
        "ticks = api.ticks(\n",
        "    contract=api.Contracts.Stocks[\"2330\"], \n",
        "    date=\"2020-03-04\"\n",
        ")\n",
        "ticks"
      ],
      "metadata": {
        "id": "UOFeCwW5YKFW"
      },
      "execution_count": null,
      "outputs": []
    },
    {
      "cell_type": "code",
      "source": [
        "contract_mxf = api.Contracts.Futures.MXF.MXF202205"
      ],
      "metadata": {
        "id": "tgs-II5MY_nb"
      },
      "execution_count": null,
      "outputs": []
    },
    {
      "cell_type": "code",
      "source": [
        "import pandas as pd\n",
        "df = pd.DataFrame({**ticks})\n",
        "df.ts = pd.to_datetime(df.ts)\n",
        "df.head()"
      ],
      "metadata": {
        "id": "z8CBhKi4ZsGB"
      },
      "execution_count": null,
      "outputs": []
    },
    {
      "cell_type": "code",
      "source": [
        "ticks = api.ticks(\n",
        "    contract=api.Contracts.Futures.MXF.MXF202205,\n",
        "    date=\"2022-03-29\", \n",
        "    query_type=sj.constant.TicksQueryType.RangeTime,\n",
        "    time_start=\"15:00:00\",\n",
        "    time_end=\"23:59:59\"\n",
        ")\n",
        "ticks"
      ],
      "metadata": {
        "id": "7KVHQp_hZ3gW"
      },
      "execution_count": null,
      "outputs": []
    }
  ]
}